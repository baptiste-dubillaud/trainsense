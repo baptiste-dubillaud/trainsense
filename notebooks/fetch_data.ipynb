{
 "cells": [
  {
   "cell_type": "markdown",
   "id": "6efdef87",
   "metadata": {},
   "source": [
    "# Strava data ingestion\n",
    "\n",
    "This notebook authenticates with the Strava API, fetches athletes data and activities and store them.\n",
    "\n",
    "---"
   ]
  },
  {
   "cell_type": "markdown",
   "id": "f5b913d0",
   "metadata": {},
   "source": [
    "## Dependencies and configuration\n",
    "\n",
    "Import everything needed and set up configuration (constants ...)"
   ]
  },
  {
   "cell_type": "code",
   "execution_count": null,
   "id": "55f599ac",
   "metadata": {},
   "outputs": [
    {
     "name": "stdout",
     "output_type": "stream",
     "text": [
      "Loaded STRAVA_CLIENT_ID: 176459\n",
      "Loaded STRAVA_CLIENT_SECRET: 1a9d963bec85c4de91bd28526331a13ef578a524\n",
      "Loaded STRAVA_REFRESH_TOKEN: b873396b75c9504b9ebd23bac3216e476cb9d2a4\n",
      "Loaded STRAVA_ACCESS_TOKEN: f4bc0ac3563ab45187161065726ccacb984d8bac\n",
      "Loaded STRAVA_USER_AUTHORIZATION_CODE: bf2f91140a82b2f8ac64a06f98f5179d6682eede\n"
     ]
    }
   ],
   "source": [
    "import os\n",
    "import json\n",
    "import math\n",
    "import time\n",
    "import datetime as dt\n",
    "from pathlib import Path\n",
    "from typing import List, Dict, Any\n",
    "import threading\n",
    "from functools import lru_cache\n",
    "import requests\n",
    "import pandas as pd\n",
    "import numpy as np\n",
    "from dotenv import load_dotenv\n",
    "import matplotlib.pyplot as plt\n",
    "import seaborn as sns\n",
    "import pprint\n",
    "\n",
    "### Load environment variables from .env file\n",
    "load_dotenv()\n",
    "STRAVA_CLIENT_ID = os.getenv(\"STRAVA_CLIENT_ID\")\n",
    "STRAVA_CLIENT_SECRET = os.getenv(\"STRAVA_CLIENT_SECRET\")\n",
    "STRAVA_REFRESH_TOKEN = os.getenv(\"STRAVA_REFRESH_TOKEN\")\n",
    "STRAVA_ACCESS_TOKEN = os.getenv(\"STRAVA_ACCESS_TOKEN\")\n",
    "STRAVA_USER_AUTHORIZATION_CODE = os.getenv(\"STRAVA_USER_AUTHORIZATION_CODE\")\n",
    "\n",
    "print(f\"Loaded STRAVA_CLIENT_ID: {STRAVA_CLIENT_ID}\")\n",
    "print(f\"Loaded STRAVA_CLIENT_SECRET: {STRAVA_CLIENT_SECRET}\")\n",
    "print(f\"Loaded STRAVA_REFRESH_TOKEN: {STRAVA_REFRESH_TOKEN}\")\n",
    "print(f\"Loaded STRAVA_ACCESS_TOKEN: {STRAVA_ACCESS_TOKEN}\")\n",
    "print(f\"Loaded STRAVA_USER_AUTHORIZATION_CODE: {STRAVA_USER_AUTHORIZATION_CODE}\")\n",
    "\n",
    "### Constants\n",
    "BASE_URL = 'https://www.strava.com/api/v3'\n",
    "TOKEN_URL = 'https://www.strava.com/oauth/token'\n",
    "\n",
    "# Token store\n",
    "TOKEN_FILE = Path(\"./tmp/strava_token.json\")\n",
    "\n",
    "# Strava data store\n",
    "ATHLETE_DATA = Path(\"./data/athlete_profile.json\")\n",
    "ATHLETE_ACTIVITIES = Path(\"./data/athlete_activities.json\")"
   ]
  },
  {
   "cell_type": "code",
   "execution_count": null,
   "id": "43193782",
   "metadata": {},
   "outputs": [],
   "source": [
    "_token_lock = threading.Lock()\n",
    "\n",
    "def _save_token(data: Dict[str, Any]):\n",
    "    TOKEN_FILE.write_text(json.dumps(data))\n",
    "\n",
    "def _load_token():\n",
    "    if TOKEN_FILE.exists():\n",
    "        try:\n",
    "            return json.loads(TOKEN_FILE.read_text())\n",
    "        except json.JSONDecodeError:\n",
    "            return None\n",
    "    return None\n",
    "\n",
    "def refresh_access_token(force=False) -> str:\n",
    "    with _token_lock:\n",
    "        cached = _load_token()\n",
    "        now = time.time()\n",
    "        if cached and not force and cached.get('expires_at', 0) - 30 > now:\n",
    "            return cached['access_token']\n",
    "        resp = requests.post(\n",
    "            TOKEN_URL,\n",
    "            data={\n",
    "                'client_id': STRAVA_CLIENT_ID,\n",
    "                'client_secret': STRAVA_CLIENT_SECRET,\n",
    "                'grant_type': 'refresh_token',\n",
    "                'refresh_token': STRAVA_REFRESH_TOKEN,\n",
    "            }, timeout=30\n",
    "        )\n",
    "        if resp.status_code != 200:\n",
    "            raise RuntimeError(f'Token refresh failed: {resp.status_code} {resp.text}')\n",
    "        data = resp.json()\n",
    "        token_record = {\n",
    "            'access_token': data['access_token'],\n",
    "            'expires_at': data['expires_at']\n",
    "        }\n",
    "        _save_token(token_record)\n",
    "        return token_record['access_token']\n",
    "    \n",
    "def get_authorization_code() -> str:\n",
    "    resp = requests.post(\n",
    "        TOKEN_URL,\n",
    "        data={\n",
    "            'client_id': STRAVA_CLIENT_ID,\n",
    "            'client_secret': STRAVA_CLIENT_SECRET,\n",
    "            'code': STRAVA_USER_AUTHORIZATION_CODE,\n",
    "            'grant_type': 'authorization_code',\n",
    "        }, timeout=30\n",
    "    )\n",
    "    if resp.status_code != 200:\n",
    "        raise RuntimeError(f'Authorization code exchange failed: {resp.status_code} {resp.text}')\n",
    "    data = resp.json()\n",
    "    token_record = {\n",
    "        'access_token': data['access_token'],\n",
    "        'expires_at': data['expires_at']\n",
    "    }\n",
    "    _save_token(token_record)\n",
    "    return token_record['access_token']\n",
    "\n",
    "# -----------------------------------------------------------------------------------------------------\n",
    "# -----------------------------------------------------------------------------------------------------\n",
    "# -----------------------------------------------------------------------------------------------------\n",
    "\n",
    "SESSION = requests.Session()\n",
    "\n",
    "def api_get(path: str, params: Dict[str, Any] = None, retries: int = 3):\n",
    "    url = f\"{BASE_URL.rstrip('/')}/{path.lstrip('/')}\"\n",
    "    for attempt in range(retries):\n",
    "        token = refresh_access_token()\n",
    "        resp = SESSION.get(url, params=params, headers={'Authorization': f'Bearer {token}'}, timeout=60)\n",
    "\n",
    "        if resp.status_code == 401:\n",
    "            # Unauthorized, possibly token expired\n",
    "            token = refresh_access_token(force=True)\n",
    "            continue\n",
    "\n",
    "        elif resp.status_code >= 500:\n",
    "            # Server error, retry\n",
    "            time.sleep(2 ** attempt)\n",
    "            continue\n",
    "\n",
    "        elif resp.status_code != 200:\n",
    "            raise RuntimeError(f'API request failed: {resp.status_code} {resp.text}')\n",
    "\n",
    "        return resp.json()\n",
    "    raise RuntimeError(f'Exceeded retries for {url}')"
   ]
  },
  {
   "cell_type": "code",
   "execution_count": 6,
   "id": "0c5b3719",
   "metadata": {},
   "outputs": [
    {
     "data": {
      "text/plain": [
       "'382ed956796d623300ca93671cafb672a4b7e61c'"
      ]
     },
     "execution_count": 6,
     "metadata": {},
     "output_type": "execute_result"
    }
   ],
   "source": [
    "get_authorization_code()"
   ]
  },
  {
   "cell_type": "markdown",
   "id": "30f2ad54",
   "metadata": {},
   "source": [
    "## Connect to the API and fetches data.\n",
    "\n",
    "Data is then stored in CSV or JSON files."
   ]
  },
  {
   "cell_type": "markdown",
   "id": "6e840771",
   "metadata": {},
   "source": [
    "### 1: Athlete data"
   ]
  },
  {
   "cell_type": "code",
   "execution_count": null,
   "id": "4ab9bc1d",
   "metadata": {},
   "outputs": [
    {
     "name": "stdout",
     "output_type": "stream",
     "text": [
      "Athlete:          id username  resource_state firstname   lastname bio      city  \\\n",
      "0  10097604     None               3  Baptiste  Dubillaud      Jurançon   \n",
      "\n",
      "       state country sex  ...  friend_count  mutual_friend_count athlete_type  \\\n",
      "0  Aquitaine  France   M  ...            51                    0            1   \n",
      "\n",
      "  date_preference  measurement_preference  \\\n",
      "0        %m/%d/%Y                  meters   \n",
      "\n",
      "                                               clubs postable_clubs_count  \\\n",
      "0  [{'id': 671279, 'resource_state': 2, 'name': '...                    2   \n",
      "\n",
      "   ftp                                              bikes  \\\n",
      "0  230  [{'id': 'b7438340', 'primary': False, 'name': ...   \n",
      "\n",
      "                                               shoes  \n",
      "0  [{'id': 'g22167902', 'primary': False, 'name':...  \n",
      "\n",
      "[1 rows x 33 columns])\n"
     ]
    }
   ],
   "source": [
    "athlete_data = pd.json_normalize(api_get('athlete'))  # triggers headers\n",
    "print(f\"Athlete: {athlete_data})\")\n",
    "\n",
    "athlete_data.to_json(ATHLETE_DATA)"
   ]
  },
  {
   "cell_type": "code",
   "execution_count": 26,
   "id": "cf066ded",
   "metadata": {},
   "outputs": [
    {
     "name": "stdout",
     "output_type": "stream",
     "text": [
      "Fetching activities page 1 - 200 per page\n",
      "Fetching activities page 2 - 200 per page\n",
      "Fetching activities page 3 - 200 per page\n",
      "Fetching activities page 4 - 200 per page\n",
      "Fetched 709 activities\n"
     ]
    }
   ],
   "source": [
    "ACTIVITIES_PER_PAGE = 200\n",
    "\n",
    "activities_df = None\n",
    "athlete_activities = pd.DataFrame()\n",
    "page = 1\n",
    "\n",
    "while True:\n",
    "    print(f\"Fetching activities page {len(athlete_activities) // ACTIVITIES_PER_PAGE + 1} - {ACTIVITIES_PER_PAGE} per page\")\n",
    "    activities_df = pd.json_normalize(api_get('athlete/activities', params={'page': page, 'per_page': ACTIVITIES_PER_PAGE}))\n",
    "    page += 1\n",
    "    \n",
    "    athlete_activities = pd.concat([athlete_activities, activities_df])\n",
    "\n",
    "    if len(activities_df) < ACTIVITIES_PER_PAGE:\n",
    "        break\n",
    "\n",
    "print(f\"Fetched {len(athlete_activities)} activities\")\n",
    "\n",
    "athlete_activities.to_json(ATHLETE_ACTIVITIES, orient='records', lines=True)"
   ]
  }
 ],
 "metadata": {
  "kernelspec": {
   "display_name": "train_sense",
   "language": "python",
   "name": "python3"
  },
  "language_info": {
   "codemirror_mode": {
    "name": "ipython",
    "version": 3
   },
   "file_extension": ".py",
   "mimetype": "text/x-python",
   "name": "python",
   "nbconvert_exporter": "python",
   "pygments_lexer": "ipython3",
   "version": "3.13.7"
  }
 },
 "nbformat": 4,
 "nbformat_minor": 5
}
