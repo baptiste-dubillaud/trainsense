{
 "cells": [
  {
   "cell_type": "markdown",
   "id": "6efdef87",
   "metadata": {},
   "source": [
    "# Strava data ingestion\n",
    "\n",
    "This notebook authenticates with the Strava API, fetches athletes data and activities and store them.\n",
    "\n",
    "---"
   ]
  },
  {
   "cell_type": "markdown",
   "id": "f5b913d0",
   "metadata": {},
   "source": [
    "## Dependencies and configuration\n",
    "\n",
    "Import everything needed and set up configuration (constants ...)"
   ]
  },
  {
   "cell_type": "code",
   "execution_count": null,
   "id": "55f599ac",
   "metadata": {},
   "outputs": [],
   "source": [
    "import os\n",
    "import json\n",
    "import math\n",
    "import time\n",
    "import datetime as dt\n",
    "from pathlib import Path\n",
    "from typing import List, Dict, Any\n",
    "\n",
    "import requests\n",
    "import pandas as pd\n",
    "import numpy as np\n",
    "from dotenv import load_dotenv\n",
    "import matplotlib.pyplot as plt\n",
    "import seaborn as sns\n",
    "\n",
    "### Load environment variables from .env file\n",
    "load_dotenv()\n",
    "STRAVA_CLIENT_ID = os.getenv(\"STRAVA_CLIENT_ID\")\n",
    "STRAVA_CLIENT_SECRET = os.getenv(\"STRAVA_CLIENT_SECRET\")\n",
    "STRAVA_REFRESH_TOKEN = os.getenv(\"STRAVA_REFRESH_TOKEN\")\n",
    "STRAVA_ACCESS_TOKEN = os.getenv(\"STRAVA_ACCESS_TOKEN\")\n",
    "STRAVA_ATHLETE_ID = \"xxx\"\n",
    "\n",
    "### Constants\n",
    "BASE_URL = 'https://www.strava.com/api/v3'\n",
    "TOKEN_URL = 'https://www.strava.com/oauth/token'"
   ]
  }
 ],
 "metadata": {
  "language_info": {
   "name": "python"
  }
 },
 "nbformat": 4,
 "nbformat_minor": 5
}
