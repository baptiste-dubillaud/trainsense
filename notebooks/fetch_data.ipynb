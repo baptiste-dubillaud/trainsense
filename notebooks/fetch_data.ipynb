{
 "cells": [
  {
   "cell_type": "markdown",
   "id": "6efdef87",
   "metadata": {},
   "source": [
    "# Strava data ingestion\n",
    "\n",
    "This notebook authenticates with the Strava API, fetches athletes data and activities and store them.\n",
    "\n",
    "---"
   ]
  },
  {
   "cell_type": "markdown",
   "id": "f5b913d0",
   "metadata": {},
   "source": [
    "## Dependencies and configuration\n",
    "\n",
    "Import everything needed and set up configuration (constants ...)"
   ]
  },
  {
   "cell_type": "code",
   "execution_count": 6,
   "id": "55f599ac",
   "metadata": {},
   "outputs": [],
   "source": [
    "import os\n",
    "import json\n",
    "import math\n",
    "import time\n",
    "import datetime as dt\n",
    "from pathlib import Path\n",
    "from typing import List, Dict, Any\n",
    "import threading\n",
    "from functools import lru_cache\n",
    "import requests\n",
    "import pandas as pd\n",
    "import numpy as np\n",
    "from dotenv import load_dotenv\n",
    "import matplotlib.pyplot as plt\n",
    "import seaborn as sns\n",
    "\n",
    "### Load environment variables from .env file\n",
    "load_dotenv()\n",
    "STRAVA_CLIENT_ID = os.getenv(\"STRAVA_CLIENT_ID\")\n",
    "STRAVA_CLIENT_SECRET = os.getenv(\"STRAVA_CLIENT_SECRET\")\n",
    "STRAVA_REFRESH_TOKEN = os.getenv(\"STRAVA_REFRESH_TOKEN\")\n",
    "STRAVA_ACCESS_TOKEN = os.getenv(\"STRAVA_ACCESS_TOKEN\")\n",
    "STRAVA_ATHLETE_ID = \"xxx\"\n",
    "\n",
    "### Constants\n",
    "BASE_URL = 'https://www.strava.com/api/v3'\n",
    "TOKEN_URL = 'https://www.strava.com/oauth/token'\n",
    "\n",
    "# Token store\n",
    "TOKEN_FILE = Path(\"./tmp/strava_token.json\")\n",
    "\n",
    "# Strava data store\n",
    "ATHLETE_DATA = Path(\"./data/athlete_profile.json\")"
   ]
  },
  {
   "cell_type": "code",
   "execution_count": null,
   "id": "43193782",
   "metadata": {},
   "outputs": [],
   "source": [
    "from functools import lru_cache\n",
    "\n",
    "_token_lock = threading.Lock()\n",
    "\n",
    "def _save_token(data: Dict[str, Any]):\n",
    "    TOKEN_FILE.write_text(json.dumps(data))\n",
    "\n",
    "def _load_token():\n",
    "    if TOKEN_FILE.exists():\n",
    "        try:\n",
    "            return json.loads(TOKEN_FILE.read_text())\n",
    "        except json.JSONDecodeError:\n",
    "            return None\n",
    "    return None\n",
    "\n",
    "def refresh_access_token(force=False) -> str:\n",
    "    with _token_lock:\n",
    "        cached = _load_token()\n",
    "        now = time.time()\n",
    "        if cached and not force and cached.get('expires_at', 0) - 30 > now:\n",
    "            return cached['access_token']\n",
    "        resp = requests.post(\n",
    "            TOKEN_URL,\n",
    "            data={\n",
    "                'client_id': STRAVA_CLIENT_ID,\n",
    "                'client_secret': STRAVA_CLIENT_SECRET,\n",
    "                'grant_type': 'refresh_token',\n",
    "                'refresh_token': STRAVA_REFRESH_TOKEN\n",
    "            }, timeout=30\n",
    "        )\n",
    "        if resp.status_code != 200:\n",
    "            raise RuntimeError(f'Token refresh failed: {resp.status_code} {resp.text}')\n",
    "        data = resp.json()\n",
    "        token_record = {\n",
    "            'access_token': data['access_token'],\n",
    "            'expires_at': data['expires_at']\n",
    "        }\n",
    "        _save_token(token_record)\n",
    "        return token_record['access_token']\n",
    "\n",
    "SESSION = requests.Session()\n",
    "\n",
    "RATE_LIMIT = {'short_limit': None, 'short_used': None, 'long_limit': None, 'long_used': None}\n",
    "\n",
    "def api_get(path: str, params: Dict[str, Any] = None, retries: int = 3):\n",
    "    url = f\"{BASE_URL.rstrip('/')}/{path.lstrip('/')}\"\n",
    "    for attempt in range(retries):\n",
    "        token = refresh_access_token()\n",
    "        resp = SESSION.get(url, params=params, headers={'Authorization': f'Bearer {token}'}, timeout=60)\n",
    "        # capture rate limit headers\n",
    "        if 'X-RateLimit-Limit' in resp.headers:\n",
    "            short_l, long_l = resp.headers['X-RateLimit-Limit'].split(',')\n",
    "            short_u, long_u = resp.headers.get('X-RateLimit-Usage', '0,0').split(',')\n",
    "            RATE_LIMIT.update({\n",
    "                'short_limit': int(short_l), 'long_limit': int(long_l),\n",
    "                'short_used': int(short_u), 'long_used': int(long_u)\n",
    "            })\n",
    "\n",
    "        else:\n",
    "            raise RuntimeError(f'GET {url} failed {resp.status_code}: {resp.text[:200]}')\n",
    "        return resp.json()\n",
    "    raise RuntimeError(f'Exceeded retries for {url}')"
   ]
  },
  {
   "cell_type": "markdown",
   "id": "30f2ad54",
   "metadata": {},
   "source": [
    "## Connect to the API and fetches data.\n",
    "\n",
    "Data is then stored in CSV or JSON files."
   ]
  },
  {
   "cell_type": "markdown",
   "id": "6e840771",
   "metadata": {},
   "source": [
    "### 1: Athlete data"
   ]
  },
  {
   "cell_type": "code",
   "execution_count": 7,
   "id": "4ab9bc1d",
   "metadata": {},
   "outputs": [
    {
     "name": "stdout",
     "output_type": "stream",
     "text": [
      "Athlete:          id username  resource_state firstname   lastname bio      city  \\\n",
      "0  10097604     None               2  Baptiste  Dubillaud      Jurançon   \n",
      "\n",
      "       state country sex  premium  summit            created_at  \\\n",
      "0  Aquitaine  France   M     True    True  2015-07-05T18:13:31Z   \n",
      "\n",
      "             updated_at  badge_type_id  weight  \\\n",
      "0  2025-06-09T14:43:39Z              1    83.0   \n",
      "\n",
      "                                      profile_medium  \\\n",
      "0  https://dgalywyr863hv.cloudfront.net/pictures/...   \n",
      "\n",
      "                                             profile friend follower  \n",
      "0  https://dgalywyr863hv.cloudfront.net/pictures/...   None     None  )\n"
     ]
    }
   ],
   "source": [
    "athlete_data = pd.json_normalize(api_get('athlete'))  # triggers headers\n",
    "print(f\"Athlete: {athlete_data})\")\n",
    "\n",
    "athlete_data.to_json(ATHLETE_DATA)"
   ]
  }
 ],
 "metadata": {
  "kernelspec": {
   "display_name": "train_sense",
   "language": "python",
   "name": "python3"
  },
  "language_info": {
   "codemirror_mode": {
    "name": "ipython",
    "version": 3
   },
   "file_extension": ".py",
   "mimetype": "text/x-python",
   "name": "python",
   "nbconvert_exporter": "python",
   "pygments_lexer": "ipython3",
   "version": "3.13.7"
  }
 },
 "nbformat": 4,
 "nbformat_minor": 5
}
