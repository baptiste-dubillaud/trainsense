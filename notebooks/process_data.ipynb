{
 "cells": [
  {
   "cell_type": "markdown",
   "id": "5051330c",
   "metadata": {},
   "source": [
    "# Strava data processing and exploration\n",
    "\n",
    "This notebook uses the data fetched by the *fetch_data.ipynb* and explores Strava extracted data.\n",
    "\n",
    "Data are:\n",
    "\n",
    "- Athlete profile\n",
    "- All Atlhlete activities with:\n",
    "    - Base activity data such as distance, average pace, average HR etc...\n",
    "    - Advanced data - streams - about HR, pace etc ...\n",
    "\n",
    "\n",
    "---\n",
    "\n"
   ]
  },
  {
   "cell_type": "markdown",
   "id": "af38fa18",
   "metadata": {},
   "source": [
    "## Dependencies and configuration\n",
    "\n",
    "import needed dependencies and configure the environment."
   ]
  },
  {
   "cell_type": "code",
   "execution_count": 1,
   "id": "b2a6ca97",
   "metadata": {},
   "outputs": [
    {
     "name": "stdout",
     "output_type": "stream",
     "text": [
      "Loaded STRAVA_CLIENT_ID: 176459\n",
      "Loaded STRAVA_CLIENT_SECRET: 1a9d963bec85c4de91bd28526331a13ef578a524\n",
      "Loaded STRAVA_REFRESH_TOKEN: b873396b75c9504b9ebd23bac3216e476cb9d2a4\n",
      "Loaded STRAVA_ACCESS_TOKEN: f4bc0ac3563ab45187161065726ccacb984d8bac\n",
      "Loaded STRAVA_USER_AUTHORIZATION_CODE: 1f6d477ee870de8113f2fe2f44283124ceca5935\n"
     ]
    }
   ],
   "source": [
    "import json\n",
    "import math\n",
    "import time\n",
    "import os\n",
    "from pathlib import Path\n",
    "from typing import Dict, Any\n",
    "import threading\n",
    "import requests\n",
    "import polars as pl\n",
    "import numpy as np\n",
    "\n",
    "from utils import config"
   ]
  },
  {
   "cell_type": "code",
   "execution_count": null,
   "id": "8ff50024",
   "metadata": {},
   "outputs": [],
   "source": [
    "def load_file(path: Path) -> pl.DataFrame:\n",
    "    p = str(path)\n",
    "    # Sniff the first non-whitespace char to choose parser\n",
    "    try:\n",
    "        with open(p, 'r', encoding='utf-8') as f:\n",
    "            head = f.read(2048).lstrip()\n",
    "    except Exception:\n",
    "        head = \"\"\n",
    "\n",
    "    if head.startswith(\"[\"):\n",
    "        # JSON array of objects\n",
    "        return pl.read_json(p)\n",
    "\n",
    "    # Try NDJSON (one JSON object per line) first; fallback to standard JSON\n",
    "    try:\n",
    "        return pl.read_ndjson(p)\n",
    "    except Exception:\n",
    "        return pl.read_json(p)"
   ]
  },
  {
   "cell_type": "markdown",
   "id": "e8210250",
   "metadata": {},
   "source": [
    "## Data Exploration\n",
    "\n",
    "### 1. Basic athlete data"
   ]
  },
  {
   "cell_type": "code",
   "execution_count": 6,
   "id": "919afa91",
   "metadata": {},
   "outputs": [
    {
     "name": "stdout",
     "output_type": "stream",
     "text": [
      "shape: (1, 33)\n",
      "┌──────────────┬─────────┬────────┬───────────┬───┬──────────┬────────┬──────────────┬─────────────┐\n",
      "│ resource_sta ┆ country ┆ friend ┆ state     ┆ … ┆ city     ┆ summit ┆ bikes        ┆ shoes       │\n",
      "│ te           ┆ ---     ┆ ---    ┆ ---       ┆   ┆ ---      ┆ ---    ┆ ---          ┆ ---         │\n",
      "│ ---          ┆ str     ┆ null   ┆ str       ┆   ┆ str      ┆ bool   ┆ list[struct[ ┆ list[struct │\n",
      "│ i64          ┆         ┆        ┆           ┆   ┆          ┆        ┆ 8]]          ┆ [8]]        │\n",
      "╞══════════════╪═════════╪════════╪═══════════╪═══╪══════════╪════════╪══════════════╪═════════════╡\n",
      "│ 3            ┆ France  ┆ null   ┆ Aquitaine ┆ … ┆ Jurançon ┆ true   ┆ [{\"b7438340\" ┆ [{\"g2216790 │\n",
      "│              ┆         ┆        ┆           ┆   ┆          ┆        ┆ ,false,\"Trib ┆ 2\",false,\"S │\n",
      "│              ┆         ┆        ┆           ┆   ┆          ┆        ┆ an 520…      ┆ aucony T…   │\n",
      "└──────────────┴─────────┴────────┴───────────┴───┴──────────┴────────┴──────────────┴─────────────┘\n"
     ]
    }
   ],
   "source": [
    "athlete_profile = load_file(config.ATHLETE_DATA)\n",
    "\n",
    "print(athlete_profile)"
   ]
  },
  {
   "cell_type": "markdown",
   "id": "766d59d4",
   "metadata": {},
   "source": [
    "### 2. Base activity statistics\n",
    "\n",
    "Some stats about activities over time"
   ]
  },
  {
   "cell_type": "code",
   "execution_count": 7,
   "id": "74e1fa44",
   "metadata": {},
   "outputs": [
    {
     "ename": "ComputeError",
     "evalue": "ExpectedArrayContent at character 2392 ('{')",
     "output_type": "error",
     "traceback": [
      "\u001b[31m---------------------------------------------------------------------------\u001b[39m",
      "\u001b[31mComputeError\u001b[39m                              Traceback (most recent call last)",
      "\u001b[36mCell\u001b[39m\u001b[36m \u001b[39m\u001b[32mIn[5]\u001b[39m\u001b[32m, line 5\u001b[39m, in \u001b[36mload_file\u001b[39m\u001b[34m(path)\u001b[39m\n\u001b[32m      4\u001b[39m \u001b[38;5;28;01mtry\u001b[39;00m:\n\u001b[32m----> \u001b[39m\u001b[32m5\u001b[39m     \u001b[38;5;28;01mreturn\u001b[39;00m \u001b[43mpl\u001b[49m\u001b[43m.\u001b[49m\u001b[43mread_ndjson\u001b[49m\u001b[43m(\u001b[49m\u001b[43mp\u001b[49m\u001b[43m)\u001b[49m\n\u001b[32m      6\u001b[39m \u001b[38;5;28;01mexcept\u001b[39;00m \u001b[38;5;167;01mException\u001b[39;00m:\n",
      "\u001b[36mFile \u001b[39m\u001b[32m~/miniconda3/envs/train_sense/lib/python3.13/site-packages/polars/io/ndjson.py:174\u001b[39m, in \u001b[36mread_ndjson\u001b[39m\u001b[34m(***failed resolving arguments***)\u001b[39m\n\u001b[32m    155\u001b[39m \u001b[38;5;28;01mdel\u001b[39;00m credential_provider\n\u001b[32m    157\u001b[39m \u001b[38;5;28;01mreturn\u001b[39;00m \u001b[43mscan_ndjson\u001b[49m\u001b[43m(\u001b[49m\n\u001b[32m    158\u001b[39m \u001b[43m    \u001b[49m\u001b[43msource\u001b[49m\u001b[43m,\u001b[49m\n\u001b[32m    159\u001b[39m \u001b[43m    \u001b[49m\u001b[43mschema\u001b[49m\u001b[43m=\u001b[49m\u001b[43mschema\u001b[49m\u001b[43m,\u001b[49m\n\u001b[32m    160\u001b[39m \u001b[43m    \u001b[49m\u001b[43mschema_overrides\u001b[49m\u001b[43m=\u001b[49m\u001b[43mschema_overrides\u001b[49m\u001b[43m,\u001b[49m\n\u001b[32m    161\u001b[39m \u001b[43m    \u001b[49m\u001b[43minfer_schema_length\u001b[49m\u001b[43m=\u001b[49m\u001b[43minfer_schema_length\u001b[49m\u001b[43m,\u001b[49m\n\u001b[32m    162\u001b[39m \u001b[43m    \u001b[49m\u001b[43mbatch_size\u001b[49m\u001b[43m=\u001b[49m\u001b[43mbatch_size\u001b[49m\u001b[43m,\u001b[49m\n\u001b[32m    163\u001b[39m \u001b[43m    \u001b[49m\u001b[43mn_rows\u001b[49m\u001b[43m=\u001b[49m\u001b[43mn_rows\u001b[49m\u001b[43m,\u001b[49m\n\u001b[32m    164\u001b[39m \u001b[43m    \u001b[49m\u001b[43mlow_memory\u001b[49m\u001b[43m=\u001b[49m\u001b[43mlow_memory\u001b[49m\u001b[43m,\u001b[49m\n\u001b[32m    165\u001b[39m \u001b[43m    \u001b[49m\u001b[43mrechunk\u001b[49m\u001b[43m=\u001b[49m\u001b[43mrechunk\u001b[49m\u001b[43m,\u001b[49m\n\u001b[32m    166\u001b[39m \u001b[43m    \u001b[49m\u001b[43mrow_index_name\u001b[49m\u001b[43m=\u001b[49m\u001b[43mrow_index_name\u001b[49m\u001b[43m,\u001b[49m\n\u001b[32m    167\u001b[39m \u001b[43m    \u001b[49m\u001b[43mrow_index_offset\u001b[49m\u001b[43m=\u001b[49m\u001b[43mrow_index_offset\u001b[49m\u001b[43m,\u001b[49m\n\u001b[32m    168\u001b[39m \u001b[43m    \u001b[49m\u001b[43mignore_errors\u001b[49m\u001b[43m=\u001b[49m\u001b[43mignore_errors\u001b[49m\u001b[43m,\u001b[49m\n\u001b[32m    169\u001b[39m \u001b[43m    \u001b[49m\u001b[43minclude_file_paths\u001b[49m\u001b[43m=\u001b[49m\u001b[43minclude_file_paths\u001b[49m\u001b[43m,\u001b[49m\n\u001b[32m    170\u001b[39m \u001b[43m    \u001b[49m\u001b[43mretries\u001b[49m\u001b[43m=\u001b[49m\u001b[43mretries\u001b[49m\u001b[43m,\u001b[49m\n\u001b[32m    171\u001b[39m \u001b[43m    \u001b[49m\u001b[43mstorage_options\u001b[49m\u001b[43m=\u001b[49m\u001b[43mstorage_options\u001b[49m\u001b[43m,\u001b[49m\n\u001b[32m    172\u001b[39m \u001b[43m    \u001b[49m\u001b[43mcredential_provider\u001b[49m\u001b[43m=\u001b[49m\u001b[43mcredential_provider_builder\u001b[49m\u001b[43m,\u001b[49m\u001b[43m  \u001b[49m\u001b[38;5;66;43;03m# type: ignore[arg-type]\u001b[39;49;00m\n\u001b[32m    173\u001b[39m \u001b[43m    \u001b[49m\u001b[43mfile_cache_ttl\u001b[49m\u001b[43m=\u001b[49m\u001b[43mfile_cache_ttl\u001b[49m\u001b[43m,\u001b[49m\n\u001b[32m--> \u001b[39m\u001b[32m174\u001b[39m \u001b[43m\u001b[49m\u001b[43m)\u001b[49m\u001b[43m.\u001b[49m\u001b[43mcollect\u001b[49m\u001b[43m(\u001b[49m\u001b[43m)\u001b[49m\n",
      "\u001b[36mFile \u001b[39m\u001b[32m~/miniconda3/envs/train_sense/lib/python3.13/site-packages/polars/_utils/deprecation.py:97\u001b[39m, in \u001b[36mdeprecate_streaming_parameter.<locals>.decorate.<locals>.wrapper\u001b[39m\u001b[34m(*args, **kwargs)\u001b[39m\n\u001b[32m     95\u001b[39m     \u001b[38;5;28;01mdel\u001b[39;00m kwargs[\u001b[33m\"\u001b[39m\u001b[33mstreaming\u001b[39m\u001b[33m\"\u001b[39m]\n\u001b[32m---> \u001b[39m\u001b[32m97\u001b[39m \u001b[38;5;28;01mreturn\u001b[39;00m \u001b[43mfunction\u001b[49m\u001b[43m(\u001b[49m\u001b[43m*\u001b[49m\u001b[43margs\u001b[49m\u001b[43m,\u001b[49m\u001b[43m \u001b[49m\u001b[43m*\u001b[49m\u001b[43m*\u001b[49m\u001b[43mkwargs\u001b[49m\u001b[43m)\u001b[49m\n",
      "\u001b[36mFile \u001b[39m\u001b[32m~/miniconda3/envs/train_sense/lib/python3.13/site-packages/polars/lazyframe/opt_flags.py:330\u001b[39m, in \u001b[36mforward_old_opt_flags.<locals>.decorate.<locals>.wrapper\u001b[39m\u001b[34m(*args, **kwargs)\u001b[39m\n\u001b[32m    329\u001b[39m kwargs[\u001b[33m\"\u001b[39m\u001b[33moptimizations\u001b[39m\u001b[33m\"\u001b[39m] = optflags\n\u001b[32m--> \u001b[39m\u001b[32m330\u001b[39m \u001b[38;5;28;01mreturn\u001b[39;00m \u001b[43mfunction\u001b[49m\u001b[43m(\u001b[49m\u001b[43m*\u001b[49m\u001b[43margs\u001b[49m\u001b[43m,\u001b[49m\u001b[43m \u001b[49m\u001b[43m*\u001b[49m\u001b[43m*\u001b[49m\u001b[43mkwargs\u001b[49m\u001b[43m)\u001b[49m\n",
      "\u001b[36mFile \u001b[39m\u001b[32m~/miniconda3/envs/train_sense/lib/python3.13/site-packages/polars/lazyframe/frame.py:2407\u001b[39m, in \u001b[36mLazyFrame.collect\u001b[39m\u001b[34m(self, type_coercion, predicate_pushdown, projection_pushdown, simplify_expression, slice_pushdown, comm_subplan_elim, comm_subexpr_elim, cluster_with_columns, collapse_joins, no_optimization, engine, background, optimizations, **_kwargs)\u001b[39m\n\u001b[32m   2406\u001b[39m callback = _kwargs.get(\u001b[33m\"\u001b[39m\u001b[33mpost_opt_callback\u001b[39m\u001b[33m\"\u001b[39m, callback)\n\u001b[32m-> \u001b[39m\u001b[32m2407\u001b[39m \u001b[38;5;28;01mreturn\u001b[39;00m wrap_df(\u001b[43mldf\u001b[49m\u001b[43m.\u001b[49m\u001b[43mcollect\u001b[49m\u001b[43m(\u001b[49m\u001b[43mengine\u001b[49m\u001b[43m,\u001b[49m\u001b[43m \u001b[49m\u001b[43mcallback\u001b[49m\u001b[43m)\u001b[49m)\n",
      "\u001b[31mComputeError\u001b[39m: Syntax at character 2390 ('}')\n\nThis error occurred with the following context stack:\n\t[1] 'ndjson scan'\n\t[2] 'sink'\n",
      "\nDuring handling of the above exception, another exception occurred:\n",
      "\u001b[31mComputeError\u001b[39m                              Traceback (most recent call last)",
      "\u001b[36mCell\u001b[39m\u001b[36m \u001b[39m\u001b[32mIn[7]\u001b[39m\u001b[32m, line 1\u001b[39m\n\u001b[32m----> \u001b[39m\u001b[32m1\u001b[39m activities = \u001b[43mload_file\u001b[49m\u001b[43m(\u001b[49m\u001b[43mconfig\u001b[49m\u001b[43m.\u001b[49m\u001b[43mATHLETE_ACTIVITIES\u001b[49m\u001b[43m)\u001b[49m\n\u001b[32m      3\u001b[39m \u001b[38;5;28mprint\u001b[39m(activities.shape)\n\u001b[32m      4\u001b[39m \u001b[38;5;28mprint\u001b[39m(activities.head())\n",
      "\u001b[36mCell\u001b[39m\u001b[36m \u001b[39m\u001b[32mIn[5]\u001b[39m\u001b[32m, line 7\u001b[39m, in \u001b[36mload_file\u001b[39m\u001b[34m(path)\u001b[39m\n\u001b[32m      5\u001b[39m     \u001b[38;5;28;01mreturn\u001b[39;00m pl.read_ndjson(p)\n\u001b[32m      6\u001b[39m \u001b[38;5;28;01mexcept\u001b[39;00m \u001b[38;5;167;01mException\u001b[39;00m:\n\u001b[32m----> \u001b[39m\u001b[32m7\u001b[39m     \u001b[38;5;28;01mreturn\u001b[39;00m \u001b[43mpl\u001b[49m\u001b[43m.\u001b[49m\u001b[43mread_json\u001b[49m\u001b[43m(\u001b[49m\u001b[43mp\u001b[49m\u001b[43m)\u001b[49m\n",
      "\u001b[36mFile \u001b[39m\u001b[32m~/miniconda3/envs/train_sense/lib/python3.13/site-packages/polars/io/json/read.py:95\u001b[39m, in \u001b[36mread_json\u001b[39m\u001b[34m(source, schema, schema_overrides, infer_schema_length)\u001b[39m\n\u001b[32m     92\u001b[39m \u001b[38;5;28;01melif\u001b[39;00m \u001b[38;5;28misinstance\u001b[39m(source, (\u001b[38;5;28mstr\u001b[39m, Path)):\n\u001b[32m     93\u001b[39m     source = normalize_filepath(source)\n\u001b[32m---> \u001b[39m\u001b[32m95\u001b[39m pydf = \u001b[43mPyDataFrame\u001b[49m\u001b[43m.\u001b[49m\u001b[43mread_json\u001b[49m\u001b[43m(\u001b[49m\n\u001b[32m     96\u001b[39m \u001b[43m    \u001b[49m\u001b[43msource\u001b[49m\u001b[43m,\u001b[49m\n\u001b[32m     97\u001b[39m \u001b[43m    \u001b[49m\u001b[43minfer_schema_length\u001b[49m\u001b[43m=\u001b[49m\u001b[43minfer_schema_length\u001b[49m\u001b[43m,\u001b[49m\n\u001b[32m     98\u001b[39m \u001b[43m    \u001b[49m\u001b[43mschema\u001b[49m\u001b[43m=\u001b[49m\u001b[43mschema\u001b[49m\u001b[43m,\u001b[49m\n\u001b[32m     99\u001b[39m \u001b[43m    \u001b[49m\u001b[43mschema_overrides\u001b[49m\u001b[43m=\u001b[49m\u001b[43mschema_overrides\u001b[49m\u001b[43m,\u001b[49m\n\u001b[32m    100\u001b[39m \u001b[43m\u001b[49m\u001b[43m)\u001b[49m\n\u001b[32m    101\u001b[39m \u001b[38;5;28;01mreturn\u001b[39;00m wrap_df(pydf)\n",
      "\u001b[31mComputeError\u001b[39m: ExpectedArrayContent at character 2392 ('{')"
     ]
    }
   ],
   "source": [
    "activities = load_file(config.ATHLETE_ACTIVITIES)\n",
    "\n",
    "print(activities.shape)\n",
    "print(activities.head())"
   ]
  }
 ],
 "metadata": {
  "kernelspec": {
   "display_name": "train_sense",
   "language": "python",
   "name": "python3"
  },
  "language_info": {
   "codemirror_mode": {
    "name": "ipython",
    "version": 3
   },
   "file_extension": ".py",
   "mimetype": "text/x-python",
   "name": "python",
   "nbconvert_exporter": "python",
   "pygments_lexer": "ipython3",
   "version": "3.13.7"
  }
 },
 "nbformat": 4,
 "nbformat_minor": 5
}
