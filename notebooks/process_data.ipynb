{
 "cells": [
  {
   "cell_type": "markdown",
   "id": "5051330c",
   "metadata": {},
   "source": [
    "# Strava data processing and exploration\n",
    "\n",
    "This notebook uses the data fetched by the *fetch_data.ipynb* and explores Strava extracted data.\n",
    "\n",
    "Data are:\n",
    "\n",
    "- Athlete profile\n",
    "- All Atlhlete activities with:\n",
    "    - Base activity data such as distance, average pace, average HR etc...\n",
    "    - Advanced data - streams - about HR, pace etc ...\n",
    "\n",
    "\n",
    "---\n",
    "\n"
   ]
  },
  {
   "cell_type": "markdown",
   "id": "af38fa18",
   "metadata": {},
   "source": [
    "## Dependencies and configuration\n",
    "\n",
    "import needed dependencies and configure the environment."
   ]
  },
  {
   "cell_type": "code",
   "execution_count": 1,
   "id": "b2a6ca97",
   "metadata": {},
   "outputs": [
    {
     "name": "stdout",
     "output_type": "stream",
     "text": [
      "Loaded STRAVA_CLIENT_ID: 176459\n",
      "Loaded STRAVA_CLIENT_SECRET: 1a9d963bec85c4de91bd28526331a13ef578a524\n",
      "Loaded STRAVA_REFRESH_TOKEN: b873396b75c9504b9ebd23bac3216e476cb9d2a4\n",
      "Loaded STRAVA_ACCESS_TOKEN: f4bc0ac3563ab45187161065726ccacb984d8bac\n",
      "Loaded STRAVA_USER_AUTHORIZATION_CODE: 1f6d477ee870de8113f2fe2f44283124ceca5935\n"
     ]
    }
   ],
   "source": [
    "import json\n",
    "import math\n",
    "import time\n",
    "import os\n",
    "from pathlib import Path\n",
    "from typing import Dict, Any\n",
    "import threading\n",
    "import requests\n",
    "import polars as pl\n",
    "import numpy as np\n",
    "\n",
    "from utils import config"
   ]
  },
  {
   "cell_type": "code",
   "execution_count": 2,
   "id": "8ff50024",
   "metadata": {},
   "outputs": [],
   "source": [
    "def load_file(path: Path) -> pl.DataFrame:\n",
    "    p = str(path)\n",
    "    # Sniff the first non-whitespace char to choose parser\n",
    "    try:\n",
    "        with open(p, 'r', encoding='utf-8') as f:\n",
    "            head = f.read(2048).lstrip()\n",
    "    except Exception:\n",
    "        head = \"\"\n",
    "\n",
    "    if head.startswith(\"[\"):\n",
    "        # JSON array of objects\n",
    "        return pl.read_json(p)\n",
    "\n",
    "    # Try NDJSON (one JSON object per line) first; fallback to standard JSON\n",
    "    try:\n",
    "        return pl.read_ndjson(p)\n",
    "    except Exception:\n",
    "        return pl.read_json(p)"
   ]
  },
  {
   "cell_type": "markdown",
   "id": "e8210250",
   "metadata": {},
   "source": [
    "## Data Exploration\n",
    "\n",
    "### 1. Basic athlete data"
   ]
  },
  {
   "cell_type": "code",
   "execution_count": 3,
   "id": "919afa91",
   "metadata": {},
   "outputs": [
    {
     "name": "stdout",
     "output_type": "stream",
     "text": [
      "shape: (1, 33)\n",
      "┌─────┬──────────────┬──────────────┬──────────┬───┬─────────┬─────────────┬─────────┬─────────────┐\n",
      "│ sex ┆ profile_medi ┆ postable_clu ┆ id       ┆ … ┆ country ┆ athlete_typ ┆ premium ┆ badge_type_ │\n",
      "│ --- ┆ um           ┆ bs_count     ┆ ---      ┆   ┆ ---     ┆ e           ┆ ---     ┆ id          │\n",
      "│ str ┆ ---          ┆ ---          ┆ i64      ┆   ┆ str     ┆ ---         ┆ bool    ┆ ---         │\n",
      "│     ┆ str          ┆ i64          ┆          ┆   ┆         ┆ i64         ┆         ┆ i64         │\n",
      "╞═════╪══════════════╪══════════════╪══════════╪═══╪═════════╪═════════════╪═════════╪═════════════╡\n",
      "│ M   ┆ https://dgal ┆ 2            ┆ 10097604 ┆ … ┆ France  ┆ 1           ┆ true    ┆ 1           │\n",
      "│     ┆ ywyr863hv.cl ┆              ┆          ┆   ┆         ┆             ┆         ┆             │\n",
      "│     ┆ oudfro…      ┆              ┆          ┆   ┆         ┆             ┆         ┆             │\n",
      "└─────┴──────────────┴──────────────┴──────────┴───┴─────────┴─────────────┴─────────┴─────────────┘\n"
     ]
    }
   ],
   "source": [
    "athlete_profile = load_file(config.ATHLETE_DATA)\n",
    "\n",
    "print(athlete_profile)"
   ]
  },
  {
   "cell_type": "markdown",
   "id": "766d59d4",
   "metadata": {},
   "source": [
    "### 2. Base activity statistics\n",
    "\n",
    "Some stats about activities over time"
   ]
  },
  {
   "cell_type": "code",
   "execution_count": 6,
   "id": "74e1fa44",
   "metadata": {},
   "outputs": [
    {
     "name": "stdout",
     "output_type": "stream",
     "text": [
      "(709, 57)\n",
      "shape: (5, 57)\n",
      "┌────────────┬────────────┬───────────┬───────────┬───┬───────────┬─────────┬───────────┬──────────┐\n",
      "│ kilojoules ┆ from_accep ┆ moving_ti ┆ average_t ┆ … ┆ elev_high ┆ flagged ┆ comment_c ┆ elev_low │\n",
      "│ ---        ┆ ted_tag    ┆ me        ┆ emp       ┆   ┆ ---       ┆ ---     ┆ ount      ┆ ---      │\n",
      "│ f64        ┆ ---        ┆ ---       ┆ ---       ┆   ┆ f64       ┆ bool    ┆ ---       ┆ f64      │\n",
      "│            ┆ bool       ┆ i64       ┆ i64       ┆   ┆           ┆         ┆ i64       ┆          │\n",
      "╞════════════╪════════════╪═══════════╪═══════════╪═══╪═══════════╪═════════╪═══════════╪══════════╡\n",
      "│ null       ┆ false      ┆ 10228     ┆ null      ┆ … ┆ 227.2     ┆ false   ┆ 0         ┆ 58.8     │\n",
      "│ null       ┆ false      ┆ 23740     ┆ null      ┆ … ┆ 1219.2    ┆ false   ┆ 0         ┆ 809.8    │\n",
      "│ null       ┆ false      ┆ 2529      ┆ null      ┆ … ┆ 103.2     ┆ false   ┆ 0         ┆ 11.6     │\n",
      "│ 1355.8     ┆ false      ┆ 6284      ┆ 19        ┆ … ┆ 270.2     ┆ false   ┆ 0         ┆ 4.8      │\n",
      "│ null       ┆ false      ┆ 12967     ┆ null      ┆ … ┆ 610.6     ┆ false   ┆ 0         ┆ 272.6    │\n",
      "└────────────┴────────────┴───────────┴───────────┴───┴───────────┴─────────┴───────────┴──────────┘\n"
     ]
    }
   ],
   "source": [
    "activities = load_file(config.ATHLETE_ACTIVITIES)\n",
    "\n",
    "print(activities.shape)\n",
    "print(activities.head())"
   ]
  }
 ],
 "metadata": {
  "kernelspec": {
   "display_name": "train_sense",
   "language": "python",
   "name": "python3"
  },
  "language_info": {
   "codemirror_mode": {
    "name": "ipython",
    "version": 3
   },
   "file_extension": ".py",
   "mimetype": "text/x-python",
   "name": "python",
   "nbconvert_exporter": "python",
   "pygments_lexer": "ipython3",
   "version": "3.13.7"
  }
 },
 "nbformat": 4,
 "nbformat_minor": 5
}
